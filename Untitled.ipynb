{
 "cells": [
  {
   "cell_type": "code",
   "execution_count": 1,
   "metadata": {},
   "outputs": [],
   "source": [
    "import pandas as pd\n",
    "import numpy as np\n"
   ]
  },
  {
   "cell_type": "code",
   "execution_count": 2,
   "metadata": {},
   "outputs": [],
   "source": [
    "VAL_RATIO = 0.2\n",
    "def prepare_csv(seed=999):\n",
    "    \n",
    "    df_train_EN = pd.read_csv('data/en-de/train.en',sep='\\n',names = ['text'])\n",
    "    df_train_DE = pd.read_csv('data/en-de/train.de',sep='\\n',names = ['text'])\n",
    "    df_train_EN[\"text\"] = \\\n",
    "        df_train_EN.text.str.replace(\"\\n\", \" \")\n",
    "    df_train_DE[\"text\"] = \\\n",
    "        df_train_DE.text.str.replace(\"\\n\", \" \")\n",
    "    idx = np.arange(df_train_EN.shape[0])\n",
    "    \n",
    "    np.random.seed(seed)\n",
    "    np.random.shuffle(idx)\n",
    "    val_size = int(len(idx) * VAL_RATIO)\n",
    "    \n",
    "    df_train_EN.iloc[idx[val_size:], :].to_csv(\n",
    "        \"data/en-de/train_csv.en\", index=False)\n",
    "    df_train_EN.iloc[idx[:val_size], :].to_csv(\n",
    "        \"data/en-de/val_csv.en\", index=False)\n",
    "    df_train_DE.iloc[idx[val_size:], :].to_csv(\n",
    "        \"data/en-de/train_csv.de\", index=False)\n",
    "    df_train_DE.iloc[idx[:val_size], :].to_csv(\n",
    "        \"data/en-de/val_csv.de\", index=False)\n"
   ]
  },
  {
   "cell_type": "code",
   "execution_count": 4,
   "metadata": {},
   "outputs": [],
   "source": [
    "prepare_csv()"
   ]
  },
  {
   "cell_type": "code",
   "execution_count": 5,
   "metadata": {},
   "outputs": [],
   "source": [
    "import re\n",
    "import spacy\n",
    "NLP = spacy.load('en')\n",
    "MAX_CHARS = 20000\n",
    "\n",
    "def tokenizer(comment):\n",
    "    comment = re.sub(\n",
    "        r\"[\\*\\\"“”\\n\\\\…\\+\\-\\/\\=\\(\\)‘•:\\[\\]\\|’\\!;]\", \" \", \n",
    "        str(comment))\n",
    "    comment = re.sub(r\"[ ]+\", \" \", comment)\n",
    "    comment = re.sub(r\"\\!+\", \"!\", comment)\n",
    "    comment = re.sub(r\"\\,+\", \",\", comment)\n",
    "    comment = re.sub(r\"\\?+\", \"?\", comment)\n",
    "    if (len(comment) > MAX_CHARS):\n",
    "        comment = comment[:MAX_CHARS]\n",
    "    return [\n",
    "        x.text for x in NLP.tokenizer(comment) if x.text != \" \"]"
   ]
  },
  {
   "cell_type": "code",
   "execution_count": 6,
   "metadata": {},
   "outputs": [],
   "source": [
    "import logging\n",
    "import torch\n",
    "from torchtext import data"
   ]
  },
  {
   "cell_type": "code",
   "execution_count": 7,
   "metadata": {},
   "outputs": [],
   "source": []
  },
  {
   "cell_type": "code",
   "execution_count": 19,
   "metadata": {},
   "outputs": [],
   "source": [
    "LOGGER = logging.getLogger(\"toxic_dataset\")\n",
    "\n",
    "def get_dataset(fix_length=100, lower=True, vectors=None):\n",
    "#     if vectors is not None:\n",
    "#         # pretrain vectors only supports all lower cases\n",
    "#         lower = True\n",
    "    LOGGER.debug(\"Preparing CSV files...\")\n",
    "    #prepare_csv()\n",
    "    \n",
    "    comment = data.Field(\n",
    "        sequential=True,\n",
    "        fix_length=fix_length,\n",
    "        tokenize=tokenizer,\n",
    "        pad_first=True,\n",
    "        #tensor_type=torch.cuda.LongTensor,\n",
    "        lower=lower\n",
    "    )\n",
    "    \n",
    "    LOGGER.debug(\"Reading train csv file...\")\n",
    "    train, val = data.TabularDataset.splits(\n",
    "        path='data/en-de', format='csv', skip_header=True,\n",
    "        train='train_csv.en', validation='val_csv.en',\n",
    "        fields=[('comment_text', comment)])\n",
    "    \n",
    "    LOGGER.debug(\"Building vocabulary...\")\n",
    "    comment.build_vocab(\n",
    "        train, val,\n",
    "        max_size=20000,\n",
    "        min_freq=50,\n",
    "#         vectors=vectors\n",
    "    )\n",
    "    LOGGER.debug(\"Done preparing the datasets\")\n",
    "    return train, val"
   ]
  },
  {
   "cell_type": "code",
   "execution_count": 20,
   "metadata": {},
   "outputs": [],
   "source": [
    "train,val = get_dataset()"
   ]
  },
  {
   "cell_type": "code",
   "execution_count": 22,
   "metadata": {},
   "outputs": [],
   "source": [
    "def get_iterator(dataset, batch_size, train=True, \n",
    "    shuffle=True, repeat=False):\n",
    "    dataset_iter = data.Iterator(\n",
    "        dataset, batch_size=batch_size, device=0,\n",
    "        train=train, shuffle=shuffle, repeat=repeat,\n",
    "        sort=False\n",
    "    )\n",
    "    return dataset_iter"
   ]
  },
  {
   "cell_type": "code",
   "execution_count": 29,
   "metadata": {},
   "outputs": [
    {
     "name": "stderr",
     "output_type": "stream",
     "text": [
      "The `device` argument should be set by using `torch.device` or passing a string as an argument. This behavior will be deprecated soon and currently defaults to cpu.\n"
     ]
    },
    {
     "name": "stdout",
     "output_type": "stream",
     "text": [
      "\n",
      "[torchtext.data.batch.Batch of size 32]\n",
      "\t[.comment_text]:[torch.LongTensor of size 100x32]\n"
     ]
    }
   ],
   "source": [
    "for examples in get_iterator(\n",
    "            train, 32, train=True,\n",
    "            shuffle=True, repeat=False\n",
    "        ):\n",
    "    x = examples\n",
    "    print(x)\n",
    "    break"
   ]
  },
  {
   "cell_type": "code",
   "execution_count": 30,
   "metadata": {},
   "outputs": [
    {
     "data": {
      "text/plain": [
       "torchtext.data.batch.Batch"
      ]
     },
     "execution_count": 30,
     "metadata": {},
     "output_type": "execute_result"
    }
   ],
   "source": [
    "type(x)"
   ]
  },
  {
   "cell_type": "code",
   "execution_count": null,
   "metadata": {},
   "outputs": [],
   "source": []
  }
 ],
 "metadata": {
  "kernelspec": {
   "display_name": "Python 3",
   "language": "python",
   "name": "python3"
  },
  "language_info": {
   "codemirror_mode": {
    "name": "ipython",
    "version": 3
   },
   "file_extension": ".py",
   "mimetype": "text/x-python",
   "name": "python",
   "nbconvert_exporter": "python",
   "pygments_lexer": "ipython3",
   "version": "3.6.9"
  }
 },
 "nbformat": 4,
 "nbformat_minor": 2
}
